{
 "cells": [
  {
   "cell_type": "code",
   "execution_count": 1,
   "id": "5ec62b6b-4575-42ab-b9ef-173293492062",
   "metadata": {},
   "outputs": [],
   "source": [
    "import numpy as np \n",
    "import pandas as pd \n",
    "%matplotlib inline \n",
    "import matplotlib.pyplot as plt\n",
    "import os\n",
    "import cv2\n",
    "import string\n",
    "import random"
   ]
  },
  {
   "cell_type": "code",
   "execution_count": 2,
   "id": "70a3481d-589c-445e-be37-a2e5f4ecb065",
   "metadata": {},
   "outputs": [],
   "source": [
    "from keras import layers\n",
    "from keras.models import Model\n",
    "from keras.models import load_model\n",
    "from keras import callbacks"
   ]
  },
  {
   "cell_type": "code",
   "execution_count": 14,
   "id": "58ec6362-ed6a-4d06-b99b-f0e7e41c83fe",
   "metadata": {},
   "outputs": [],
   "source": [
    "symbols = string.ascii_lowercase + \"0123456789\" \n",
    "num_symbols = len(symbols)\n",
    "img_shape = (50, 200, 1)\n",
    "directory_path = '/Volumes/This One Is Totally Infectious/CSDF MIMNI PROJEKT/samples'"
   ]
  },
  {
   "cell_type": "code",
   "execution_count": 15,
   "id": "3e5135e1-7f97-4390-9a4a-3549585030fc",
   "metadata": {},
   "outputs": [
    {
     "name": "stdout",
     "output_type": "stream",
     "text": [
      "36\n"
     ]
    }
   ],
   "source": [
    "print(num_symbols)\n"
   ]
  },
  {
   "cell_type": "code",
   "execution_count": 16,
   "id": "5c02a1ba-8f86-410a-9b80-b151ef33bcf3",
   "metadata": {},
   "outputs": [],
   "source": [
    "def create_model():\n",
    "    img = layers.Input(shape=img_shape) #img input through cn layers\n",
    "    conv1 = layers.Conv2D(16, (3, 3), padding='same', activation='relu')(img)\n",
    "    mp1 = layers.MaxPooling2D(padding='same')(conv1)  # 100x25\n",
    "    conv2 = layers.Conv2D(32, (3, 3), padding='same', activation='relu')(mp1)\n",
    "    mp2 = layers.MaxPooling2D(padding='same')(conv2)  # 50x13\n",
    "    conv3 = layers.Conv2D(32, (3, 3), padding='same', activation='relu')(mp2)\n",
    "    bn = layers.BatchNormalization()(conv3)\n",
    "    mp3 = layers.MaxPooling2D(padding='same')(bn)  # 25x7\n",
    "    \n",
    "    #flattening: every branch predicts one letter\n",
    "    flat = layers.Flatten()(mp3)\n",
    "    outs = []\n",
    "    for _ in range(5):\n",
    "        dens1 = layers.Dense(64, activation='relu')(flat)\n",
    "        drop = layers.Dropout(0.5)(dens1)\n",
    "        res = layers.Dense(num_symbols, activation='sigmoid')(drop)\n",
    "\n",
    "        outs.append(res)\n",
    "    \n",
    "    # Compile model \n",
    "    model = Model(img, outs)\n",
    "    model.compile(loss='categorical_crossentropy', optimizer='adam',metrics=[\"accuracy\"])\n",
    "    return model"
   ]
  },
  {
   "cell_type": "code",
   "execution_count": 17,
   "id": "6d2f670a-8f83-4940-910c-0a57cf320026",
   "metadata": {},
   "outputs": [],
   "source": [
    "def preprocess_data():\n",
    "    n_samples = len(os.listdir(directory_path))\n",
    "    X = np.zeros((n_samples, 50, 200, 1))\n",
    "    y = np.zeros((5, n_samples, num_symbols))\n",
    "\n",
    "    for i, pic in enumerate(os.listdir(directory_path)):\n",
    "        \n",
    "        #skip problematic images\n",
    "        try:\n",
    "            # grayscale\n",
    "            img = cv2.imread(os.path.join(directory_path, pic), cv2.IMREAD_GRAYSCALE)\n",
    "            pic_target = pic[:-4]\n",
    "            if len(pic_target) < 6:\n",
    "                # Scale & reshape image\n",
    "                img = img / 255.0\n",
    "                img = np.reshape(img, (50, 200, 1))\n",
    "                # encode them using OneHotEncoding\n",
    "                targs = np.zeros((5, num_symbols))\n",
    "                for j, l in enumerate(pic_target):\n",
    "                    ind = symbols.find(l)\n",
    "                    targs[j, ind] = 1\n",
    "                X[i] = img\n",
    "                y[:, i] = targs\n",
    "        except Exception as e:\n",
    "            print(f\"Error processing image {pic}: {str(e)}\")\n",
    "            continue  # Skip this image and continue\n",
    "\n",
    "    return X, y"
   ]
  },
  {
   "cell_type": "code",
   "execution_count": 23,
   "id": "99eb5f35-7c4e-4845-856e-e635151343d6",
   "metadata": {},
   "outputs": [
    {
     "name": "stdout",
     "output_type": "stream",
     "text": [
      "Error processing image samples: unsupported operand type(s) for /: 'NoneType' and 'float'\n",
      "Skipping image samples because it could not be loaded.\n"
     ]
    }
   ],
   "source": [
    "\n",
    "X, y = preprocess_data()\n",
    "\n",
    "X_train, y_train = X[:970], y[:, :970]\n",
    "X_test, y_test = X[970:], y[:, 970:]\n",
    "\n",
    "for i, pic in enumerate(os.listdir(directory_path)):\n",
    "    # error handling to skip problematic images\n",
    "    try:\n",
    "        img = cv2.imread(os.path.join(directory_path, pic), cv2.IMREAD_GRAYSCALE)\n",
    "        \n",
    "        # Check if the image is None - problematic images\n",
    "        if img is None:\n",
    "            print(f\"Skipping image {pic} because it could not be loaded.\")\n",
    "            continue\n",
    "        \n",
    "        pic_target = pic[:-4]\n",
    "        if len(pic_target) < 6:\n",
    "                                    # Scale and reshape image\n",
    "            img = img / 255.0\n",
    "            img = np.reshape(img, (50, 200, 1))\n",
    "\n",
    "            # targets and encode them using OHEncoding\n",
    "            targs = np.zeros((5, num_symbols))\n",
    "            for j, l in enumerate(pic_target):\n",
    "                ind = symbols.find(l)\n",
    "                targs[j, ind] = 1\n",
    "            X[i] = img\n",
    "            y[:, i] = targs\n",
    "\n",
    "    except Exception as e:\n",
    "        print(f\"Error processing image {pic}: {str(e)}\")\n",
    "        continue  # Skip this image "
   ]
  },
  {
   "cell_type": "code",
   "execution_count": null,
   "id": "ec3f158d",
   "metadata": {},
   "outputs": [],
   "source": []
  },
  {
   "cell_type": "code",
   "execution_count": 24,
   "id": "dd8d7f42-08e7-4e21-badb-319845e9e818",
   "metadata": {},
   "outputs": [
    {
     "name": "stdout",
     "output_type": "stream",
     "text": [
      "Model: \"model_2\"\n",
      "__________________________________________________________________________________________________\n",
      " Layer (type)                Output Shape                 Param #   Connected to                  \n",
      "==================================================================================================\n",
      " input_3 (InputLayer)        [(None, 50, 200, 1)]         0         []                            \n",
      "                                                                                                  \n",
      " conv2d_6 (Conv2D)           (None, 50, 200, 16)          160       ['input_3[0][0]']             \n",
      "                                                                                                  \n",
      " max_pooling2d_6 (MaxPoolin  (None, 25, 100, 16)          0         ['conv2d_6[0][0]']            \n",
      " g2D)                                                                                             \n",
      "                                                                                                  \n",
      " conv2d_7 (Conv2D)           (None, 25, 100, 32)          4640      ['max_pooling2d_6[0][0]']     \n",
      "                                                                                                  \n",
      " max_pooling2d_7 (MaxPoolin  (None, 13, 50, 32)           0         ['conv2d_7[0][0]']            \n",
      " g2D)                                                                                             \n",
      "                                                                                                  \n",
      " conv2d_8 (Conv2D)           (None, 13, 50, 32)           9248      ['max_pooling2d_7[0][0]']     \n",
      "                                                                                                  \n",
      " batch_normalization_2 (Bat  (None, 13, 50, 32)           128       ['conv2d_8[0][0]']            \n",
      " chNormalization)                                                                                 \n",
      "                                                                                                  \n",
      " max_pooling2d_8 (MaxPoolin  (None, 7, 25, 32)            0         ['batch_normalization_2[0][0]'\n",
      " g2D)                                                               ]                             \n",
      "                                                                                                  \n",
      " flatten_2 (Flatten)         (None, 5600)                 0         ['max_pooling2d_8[0][0]']     \n",
      "                                                                                                  \n",
      " dense_20 (Dense)            (None, 64)                   358464    ['flatten_2[0][0]']           \n",
      "                                                                                                  \n",
      " dense_22 (Dense)            (None, 64)                   358464    ['flatten_2[0][0]']           \n",
      "                                                                                                  \n",
      " dense_24 (Dense)            (None, 64)                   358464    ['flatten_2[0][0]']           \n",
      "                                                                                                  \n",
      " dense_26 (Dense)            (None, 64)                   358464    ['flatten_2[0][0]']           \n",
      "                                                                                                  \n",
      " dense_28 (Dense)            (None, 64)                   358464    ['flatten_2[0][0]']           \n",
      "                                                                                                  \n",
      " dropout_10 (Dropout)        (None, 64)                   0         ['dense_20[0][0]']            \n",
      "                                                                                                  \n",
      " dropout_11 (Dropout)        (None, 64)                   0         ['dense_22[0][0]']            \n",
      "                                                                                                  \n",
      " dropout_12 (Dropout)        (None, 64)                   0         ['dense_24[0][0]']            \n",
      "                                                                                                  \n",
      " dropout_13 (Dropout)        (None, 64)                   0         ['dense_26[0][0]']            \n",
      "                                                                                                  \n",
      " dropout_14 (Dropout)        (None, 64)                   0         ['dense_28[0][0]']            \n",
      "                                                                                                  \n",
      " dense_21 (Dense)            (None, 36)                   2340      ['dropout_10[0][0]']          \n",
      "                                                                                                  \n",
      " dense_23 (Dense)            (None, 36)                   2340      ['dropout_11[0][0]']          \n",
      "                                                                                                  \n",
      " dense_25 (Dense)            (None, 36)                   2340      ['dropout_12[0][0]']          \n",
      "                                                                                                  \n",
      " dense_27 (Dense)            (None, 36)                   2340      ['dropout_13[0][0]']          \n",
      "                                                                                                  \n",
      " dense_29 (Dense)            (None, 36)                   2340      ['dropout_14[0][0]']          \n",
      "                                                                                                  \n",
      "==================================================================================================\n",
      "Total params: 1818196 (6.94 MB)\n",
      "Trainable params: 1818132 (6.94 MB)\n",
      "Non-trainable params: 64 (256.00 Byte)\n",
      "__________________________________________________________________________________________________\n"
     ]
    }
   ],
   "source": [
    "model=create_model();\n",
    "model.summary();"
   ]
  },
  {
   "cell_type": "code",
   "execution_count": null,
   "id": "a0121a72",
   "metadata": {},
   "outputs": [],
   "source": []
  },
  {
   "cell_type": "code",
   "execution_count": null,
   "id": "badd049e",
   "metadata": {},
   "outputs": [],
   "source": []
  },
  {
   "cell_type": "code",
   "execution_count": 25,
   "id": "e900f755-06ed-4b11-b8ce-31fe0bf86cb9",
   "metadata": {},
   "outputs": [
    {
     "name": "stdout",
     "output_type": "stream",
     "text": [
      "Epoch 1/40\n",
      "25/25 [==============================] - 2s 66ms/step - loss: 18.1342 - dense_21_loss: 3.6284 - dense_23_loss: 3.6149 - dense_25_loss: 3.6548 - dense_27_loss: 3.6169 - dense_29_loss: 3.6192 - dense_21_accuracy: 0.0515 - dense_23_accuracy: 0.0528 - dense_25_accuracy: 0.0425 - dense_27_accuracy: 0.0528 - dense_29_accuracy: 0.0490 - val_loss: 17.7175 - val_dense_21_loss: 3.6128 - val_dense_23_loss: 3.4618 - val_dense_25_loss: 3.5315 - val_dense_27_loss: 3.5251 - val_dense_29_loss: 3.5863 - val_dense_21_accuracy: 0.0515 - val_dense_23_accuracy: 0.0567 - val_dense_25_accuracy: 0.0515 - val_dense_27_accuracy: 0.0722 - val_dense_29_accuracy: 0.0000e+00\n",
      "Epoch 2/40\n",
      "25/25 [==============================] - 2s 86ms/step - loss: 17.0957 - dense_21_loss: 3.4005 - dense_23_loss: 3.3647 - dense_25_loss: 3.4638 - dense_27_loss: 3.4068 - dense_29_loss: 3.4599 - dense_21_accuracy: 0.0567 - dense_23_accuracy: 0.0760 - dense_25_accuracy: 0.0644 - dense_27_accuracy: 0.0464 - dense_29_accuracy: 0.0464 - val_loss: 17.6768 - val_dense_21_loss: 3.5541 - val_dense_23_loss: 3.4937 - val_dense_25_loss: 3.5206 - val_dense_27_loss: 3.5414 - val_dense_29_loss: 3.5669 - val_dense_21_accuracy: 0.0515 - val_dense_23_accuracy: 0.0928 - val_dense_25_accuracy: 0.0619 - val_dense_27_accuracy: 0.0000e+00 - val_dense_29_accuracy: 0.0309\n",
      "Epoch 3/40\n",
      "25/25 [==============================] - 2s 97ms/step - loss: 16.2284 - dense_21_loss: 3.2366 - dense_23_loss: 3.1321 - dense_25_loss: 3.2992 - dense_27_loss: 3.2901 - dense_29_loss: 3.2704 - dense_21_accuracy: 0.0863 - dense_23_accuracy: 0.1018 - dense_25_accuracy: 0.0902 - dense_27_accuracy: 0.0683 - dense_29_accuracy: 0.0709 - val_loss: 17.6149 - val_dense_21_loss: 3.5197 - val_dense_23_loss: 3.5133 - val_dense_25_loss: 3.5317 - val_dense_27_loss: 3.5350 - val_dense_29_loss: 3.5152 - val_dense_21_accuracy: 0.2010 - val_dense_23_accuracy: 0.1598 - val_dense_25_accuracy: 0.0876 - val_dense_27_accuracy: 0.0979 - val_dense_29_accuracy: 0.1134\n",
      "Epoch 4/40\n",
      "25/25 [==============================] - 2s 95ms/step - loss: 14.6920 - dense_21_loss: 2.7611 - dense_23_loss: 2.6710 - dense_25_loss: 3.1281 - dense_27_loss: 3.1332 - dense_29_loss: 2.9986 - dense_21_accuracy: 0.1856 - dense_23_accuracy: 0.2036 - dense_25_accuracy: 0.1186 - dense_27_accuracy: 0.0941 - dense_29_accuracy: 0.1160 - val_loss: 17.5089 - val_dense_21_loss: 3.5001 - val_dense_23_loss: 3.4749 - val_dense_25_loss: 3.5187 - val_dense_27_loss: 3.5236 - val_dense_29_loss: 3.4915 - val_dense_21_accuracy: 0.0309 - val_dense_23_accuracy: 0.2165 - val_dense_25_accuracy: 0.0567 - val_dense_27_accuracy: 0.0876 - val_dense_29_accuracy: 0.1856\n",
      "Epoch 5/40\n",
      "25/25 [==============================] - 2s 95ms/step - loss: 12.5320 - dense_21_loss: 2.0511 - dense_23_loss: 2.1214 - dense_25_loss: 2.8001 - dense_27_loss: 2.8678 - dense_29_loss: 2.6916 - dense_21_accuracy: 0.3634 - dense_23_accuracy: 0.3570 - dense_25_accuracy: 0.1817 - dense_27_accuracy: 0.1495 - dense_29_accuracy: 0.1662 - val_loss: 16.9832 - val_dense_21_loss: 3.3353 - val_dense_23_loss: 3.3239 - val_dense_25_loss: 3.4444 - val_dense_27_loss: 3.4565 - val_dense_29_loss: 3.4231 - val_dense_21_accuracy: 0.5670 - val_dense_23_accuracy: 0.4536 - val_dense_25_accuracy: 0.2216 - val_dense_27_accuracy: 0.1804 - val_dense_29_accuracy: 0.2320\n",
      "Epoch 6/40\n",
      "25/25 [==============================] - 2s 97ms/step - loss: 10.5165 - dense_21_loss: 1.4817 - dense_23_loss: 1.6166 - dense_25_loss: 2.3653 - dense_27_loss: 2.6277 - dense_29_loss: 2.4252 - dense_21_accuracy: 0.5284 - dense_23_accuracy: 0.5026 - dense_25_accuracy: 0.2745 - dense_27_accuracy: 0.2075 - dense_29_accuracy: 0.2242 - val_loss: 16.6563 - val_dense_21_loss: 3.2431 - val_dense_23_loss: 3.2316 - val_dense_25_loss: 3.3939 - val_dense_27_loss: 3.4035 - val_dense_29_loss: 3.3843 - val_dense_21_accuracy: 0.6649 - val_dense_23_accuracy: 0.6546 - val_dense_25_accuracy: 0.2887 - val_dense_27_accuracy: 0.2165 - val_dense_29_accuracy: 0.2784\n",
      "Epoch 7/40\n",
      "25/25 [==============================] - 3s 104ms/step - loss: 8.9945 - dense_21_loss: 1.0774 - dense_23_loss: 1.2350 - dense_25_loss: 2.0577 - dense_27_loss: 2.4155 - dense_29_loss: 2.2089 - dense_21_accuracy: 0.6366 - dense_23_accuracy: 0.6121 - dense_25_accuracy: 0.3441 - dense_27_accuracy: 0.2474 - dense_29_accuracy: 0.3106 - val_loss: 15.6500 - val_dense_21_loss: 2.9259 - val_dense_23_loss: 2.9857 - val_dense_25_loss: 3.2167 - val_dense_27_loss: 3.2941 - val_dense_29_loss: 3.2276 - val_dense_21_accuracy: 0.8299 - val_dense_23_accuracy: 0.7990 - val_dense_25_accuracy: 0.3866 - val_dense_27_accuracy: 0.2577 - val_dense_29_accuracy: 0.3660\n",
      "Epoch 8/40\n",
      "25/25 [==============================] - 3s 118ms/step - loss: 7.5482 - dense_21_loss: 0.8671 - dense_23_loss: 0.9390 - dense_25_loss: 1.6838 - dense_27_loss: 2.1805 - dense_29_loss: 1.8778 - dense_21_accuracy: 0.7139 - dense_23_accuracy: 0.6856 - dense_25_accuracy: 0.4639 - dense_27_accuracy: 0.3183 - dense_29_accuracy: 0.3814 - val_loss: 14.9833 - val_dense_21_loss: 2.7781 - val_dense_23_loss: 2.7649 - val_dense_25_loss: 3.1146 - val_dense_27_loss: 3.1998 - val_dense_29_loss: 3.1260 - val_dense_21_accuracy: 0.8763 - val_dense_23_accuracy: 0.8402 - val_dense_25_accuracy: 0.5000 - val_dense_27_accuracy: 0.3093 - val_dense_29_accuracy: 0.4330\n",
      "Epoch 9/40\n",
      "25/25 [==============================] - 2s 99ms/step - loss: 6.5637 - dense_21_loss: 0.6040 - dense_23_loss: 0.7985 - dense_25_loss: 1.4850 - dense_27_loss: 1.9955 - dense_29_loss: 1.6807 - dense_21_accuracy: 0.8067 - dense_23_accuracy: 0.7242 - dense_25_accuracy: 0.5193 - dense_27_accuracy: 0.3557 - dense_29_accuracy: 0.4433 - val_loss: 13.6901 - val_dense_21_loss: 2.3549 - val_dense_23_loss: 2.4586 - val_dense_25_loss: 2.9031 - val_dense_27_loss: 3.0010 - val_dense_29_loss: 2.9726 - val_dense_21_accuracy: 0.9278 - val_dense_23_accuracy: 0.8608 - val_dense_25_accuracy: 0.5979 - val_dense_27_accuracy: 0.3660 - val_dense_29_accuracy: 0.5670\n",
      "Epoch 10/40\n",
      "25/25 [==============================] - 2s 96ms/step - loss: 5.7113 - dense_21_loss: 0.5017 - dense_23_loss: 0.6225 - dense_25_loss: 1.3133 - dense_27_loss: 1.8011 - dense_29_loss: 1.4728 - dense_21_accuracy: 0.8157 - dense_23_accuracy: 0.7964 - dense_25_accuracy: 0.5567 - dense_27_accuracy: 0.3969 - dense_29_accuracy: 0.4807 - val_loss: 13.0072 - val_dense_21_loss: 2.2116 - val_dense_23_loss: 2.3375 - val_dense_25_loss: 2.6799 - val_dense_27_loss: 2.9335 - val_dense_29_loss: 2.8448 - val_dense_21_accuracy: 0.9588 - val_dense_23_accuracy: 0.8608 - val_dense_25_accuracy: 0.6186 - val_dense_27_accuracy: 0.4124 - val_dense_29_accuracy: 0.5876\n",
      "Epoch 11/40\n",
      "25/25 [==============================] - 2s 98ms/step - loss: 5.2236 - dense_21_loss: 0.4143 - dense_23_loss: 0.6694 - dense_25_loss: 1.2038 - dense_27_loss: 1.6149 - dense_29_loss: 1.3212 - dense_21_accuracy: 0.8518 - dense_23_accuracy: 0.7693 - dense_25_accuracy: 0.5979 - dense_27_accuracy: 0.4755 - dense_29_accuracy: 0.5593 - val_loss: 10.5248 - val_dense_21_loss: 1.4603 - val_dense_23_loss: 1.8242 - val_dense_25_loss: 2.2546 - val_dense_27_loss: 2.5438 - val_dense_29_loss: 2.4419 - val_dense_21_accuracy: 0.9433 - val_dense_23_accuracy: 0.9124 - val_dense_25_accuracy: 0.6443 - val_dense_27_accuracy: 0.4948 - val_dense_29_accuracy: 0.7113\n",
      "Epoch 12/40\n",
      "25/25 [==============================] - 2s 97ms/step - loss: 4.5955 - dense_21_loss: 0.4167 - dense_23_loss: 0.4928 - dense_25_loss: 0.9669 - dense_27_loss: 1.5023 - dense_29_loss: 1.2167 - dense_21_accuracy: 0.8505 - dense_23_accuracy: 0.8389 - dense_25_accuracy: 0.6688 - dense_27_accuracy: 0.4897 - dense_29_accuracy: 0.5683 - val_loss: 10.5290 - val_dense_21_loss: 1.6113 - val_dense_23_loss: 1.6709 - val_dense_25_loss: 2.3216 - val_dense_27_loss: 2.5120 - val_dense_29_loss: 2.4132 - val_dense_21_accuracy: 0.9330 - val_dense_23_accuracy: 0.9124 - val_dense_25_accuracy: 0.7165 - val_dense_27_accuracy: 0.5670 - val_dense_29_accuracy: 0.6959\n",
      "Epoch 13/40\n",
      "25/25 [==============================] - 2s 100ms/step - loss: 4.1426 - dense_21_loss: 0.4025 - dense_23_loss: 0.4320 - dense_25_loss: 0.9170 - dense_27_loss: 1.2831 - dense_29_loss: 1.1079 - dense_21_accuracy: 0.8518 - dense_23_accuracy: 0.8544 - dense_25_accuracy: 0.6985 - dense_27_accuracy: 0.5644 - dense_29_accuracy: 0.6018 - val_loss: 8.7613 - val_dense_21_loss: 1.1483 - val_dense_23_loss: 1.3502 - val_dense_25_loss: 1.9645 - val_dense_27_loss: 2.2347 - val_dense_29_loss: 2.0635 - val_dense_21_accuracy: 0.9691 - val_dense_23_accuracy: 0.9072 - val_dense_25_accuracy: 0.7268 - val_dense_27_accuracy: 0.6082 - val_dense_29_accuracy: 0.7320\n",
      "Epoch 14/40\n",
      "25/25 [==============================] - 2s 98ms/step - loss: 3.9483 - dense_21_loss: 0.3295 - dense_23_loss: 0.3971 - dense_25_loss: 0.9165 - dense_27_loss: 1.2638 - dense_29_loss: 1.0415 - dense_21_accuracy: 0.8866 - dense_23_accuracy: 0.8466 - dense_25_accuracy: 0.6817 - dense_27_accuracy: 0.5709 - dense_29_accuracy: 0.6379 - val_loss: 7.2788 - val_dense_21_loss: 0.7940 - val_dense_23_loss: 1.0656 - val_dense_25_loss: 1.6137 - val_dense_27_loss: 1.9912 - val_dense_29_loss: 1.8143 - val_dense_21_accuracy: 0.9691 - val_dense_23_accuracy: 0.9330 - val_dense_25_accuracy: 0.7680 - val_dense_27_accuracy: 0.6392 - val_dense_29_accuracy: 0.8093\n",
      "Epoch 15/40\n",
      "25/25 [==============================] - 3s 105ms/step - loss: 3.4234 - dense_21_loss: 0.2949 - dense_23_loss: 0.3979 - dense_25_loss: 0.7566 - dense_27_loss: 1.1015 - dense_29_loss: 0.8725 - dense_21_accuracy: 0.8879 - dense_23_accuracy: 0.8608 - dense_25_accuracy: 0.7307 - dense_27_accuracy: 0.6198 - dense_29_accuracy: 0.6869 - val_loss: 6.3275 - val_dense_21_loss: 0.5405 - val_dense_23_loss: 0.9303 - val_dense_25_loss: 1.4761 - val_dense_27_loss: 1.8250 - val_dense_29_loss: 1.5556 - val_dense_21_accuracy: 0.9742 - val_dense_23_accuracy: 0.9175 - val_dense_25_accuracy: 0.8041 - val_dense_27_accuracy: 0.6340 - val_dense_29_accuracy: 0.8351\n",
      "Epoch 16/40\n",
      "25/25 [==============================] - 3s 113ms/step - loss: 3.1444 - dense_21_loss: 0.2893 - dense_23_loss: 0.3029 - dense_25_loss: 0.7508 - dense_27_loss: 0.9834 - dense_29_loss: 0.8180 - dense_21_accuracy: 0.9021 - dense_23_accuracy: 0.8918 - dense_25_accuracy: 0.7216 - dense_27_accuracy: 0.6211 - dense_29_accuracy: 0.6946 - val_loss: 4.9670 - val_dense_21_loss: 0.3609 - val_dense_23_loss: 0.6113 - val_dense_25_loss: 1.2053 - val_dense_27_loss: 1.5314 - val_dense_29_loss: 1.2581 - val_dense_21_accuracy: 0.9639 - val_dense_23_accuracy: 0.9330 - val_dense_25_accuracy: 0.8093 - val_dense_27_accuracy: 0.6804 - val_dense_29_accuracy: 0.8505\n",
      "Epoch 17/40\n",
      "25/25 [==============================] - 3s 108ms/step - loss: 2.8564 - dense_21_loss: 0.2731 - dense_23_loss: 0.3297 - dense_25_loss: 0.6411 - dense_27_loss: 0.8585 - dense_29_loss: 0.7540 - dense_21_accuracy: 0.9059 - dense_23_accuracy: 0.8827 - dense_25_accuracy: 0.7771 - dense_27_accuracy: 0.6856 - dense_29_accuracy: 0.7191 - val_loss: 4.6536 - val_dense_21_loss: 0.3079 - val_dense_23_loss: 0.5916 - val_dense_25_loss: 1.2038 - val_dense_27_loss: 1.4071 - val_dense_29_loss: 1.1432 - val_dense_21_accuracy: 0.9794 - val_dense_23_accuracy: 0.9433 - val_dense_25_accuracy: 0.7938 - val_dense_27_accuracy: 0.6959 - val_dense_29_accuracy: 0.8402\n",
      "Epoch 18/40\n",
      "25/25 [==============================] - 3s 106ms/step - loss: 2.6795 - dense_21_loss: 0.2291 - dense_23_loss: 0.2705 - dense_25_loss: 0.6523 - dense_27_loss: 0.8787 - dense_29_loss: 0.6488 - dense_21_accuracy: 0.9175 - dense_23_accuracy: 0.9008 - dense_25_accuracy: 0.7603 - dense_27_accuracy: 0.6804 - dense_29_accuracy: 0.7758 - val_loss: 3.8168 - val_dense_21_loss: 0.1826 - val_dense_23_loss: 0.4923 - val_dense_25_loss: 0.9266 - val_dense_27_loss: 1.2645 - val_dense_29_loss: 0.9507 - val_dense_21_accuracy: 0.9691 - val_dense_23_accuracy: 0.9381 - val_dense_25_accuracy: 0.8247 - val_dense_27_accuracy: 0.7165 - val_dense_29_accuracy: 0.8351\n",
      "Epoch 19/40\n",
      "25/25 [==============================] - 3s 104ms/step - loss: 2.5914 - dense_21_loss: 0.2542 - dense_23_loss: 0.2262 - dense_25_loss: 0.5766 - dense_27_loss: 0.8658 - dense_29_loss: 0.6686 - dense_21_accuracy: 0.9059 - dense_23_accuracy: 0.9188 - dense_25_accuracy: 0.7899 - dense_27_accuracy: 0.6894 - dense_29_accuracy: 0.7616 - val_loss: 3.2792 - val_dense_21_loss: 0.1505 - val_dense_23_loss: 0.3794 - val_dense_25_loss: 0.8344 - val_dense_27_loss: 1.1137 - val_dense_29_loss: 0.8012 - val_dense_21_accuracy: 0.9742 - val_dense_23_accuracy: 0.9330 - val_dense_25_accuracy: 0.8402 - val_dense_27_accuracy: 0.7371 - val_dense_29_accuracy: 0.8711\n",
      "Epoch 20/40\n",
      "25/25 [==============================] - 2s 98ms/step - loss: 2.4336 - dense_21_loss: 0.2521 - dense_23_loss: 0.2772 - dense_25_loss: 0.4570 - dense_27_loss: 0.7873 - dense_29_loss: 0.6599 - dense_21_accuracy: 0.8995 - dense_23_accuracy: 0.8943 - dense_25_accuracy: 0.8170 - dense_27_accuracy: 0.6985 - dense_29_accuracy: 0.7616 - val_loss: 3.1063 - val_dense_21_loss: 0.1372 - val_dense_23_loss: 0.3935 - val_dense_25_loss: 0.7600 - val_dense_27_loss: 1.0729 - val_dense_29_loss: 0.7427 - val_dense_21_accuracy: 0.9742 - val_dense_23_accuracy: 0.9330 - val_dense_25_accuracy: 0.8247 - val_dense_27_accuracy: 0.7010 - val_dense_29_accuracy: 0.8763\n",
      "Epoch 21/40\n",
      "25/25 [==============================] - 3s 101ms/step - loss: 2.3182 - dense_21_loss: 0.1933 - dense_23_loss: 0.2540 - dense_25_loss: 0.5033 - dense_27_loss: 0.7729 - dense_29_loss: 0.5947 - dense_21_accuracy: 0.9356 - dense_23_accuracy: 0.8995 - dense_25_accuracy: 0.8235 - dense_27_accuracy: 0.7294 - dense_29_accuracy: 0.7784 - val_loss: 2.7129 - val_dense_21_loss: 0.0739 - val_dense_23_loss: 0.3703 - val_dense_25_loss: 0.6997 - val_dense_27_loss: 0.9581 - val_dense_29_loss: 0.6110 - val_dense_21_accuracy: 0.9897 - val_dense_23_accuracy: 0.9175 - val_dense_25_accuracy: 0.8093 - val_dense_27_accuracy: 0.7423 - val_dense_29_accuracy: 0.8608\n",
      "Epoch 22/40\n",
      "25/25 [==============================] - 3s 106ms/step - loss: 2.2646 - dense_21_loss: 0.2371 - dense_23_loss: 0.2468 - dense_25_loss: 0.5050 - dense_27_loss: 0.7327 - dense_29_loss: 0.5430 - dense_21_accuracy: 0.9008 - dense_23_accuracy: 0.9111 - dense_25_accuracy: 0.8093 - dense_27_accuracy: 0.7307 - dense_29_accuracy: 0.8247 - val_loss: 2.3029 - val_dense_21_loss: 0.0621 - val_dense_23_loss: 0.3114 - val_dense_25_loss: 0.6234 - val_dense_27_loss: 0.8126 - val_dense_29_loss: 0.4934 - val_dense_21_accuracy: 0.9845 - val_dense_23_accuracy: 0.9433 - val_dense_25_accuracy: 0.8351 - val_dense_27_accuracy: 0.7732 - val_dense_29_accuracy: 0.8711\n",
      "Epoch 23/40\n",
      "25/25 [==============================] - 3s 107ms/step - loss: 2.1407 - dense_21_loss: 0.2194 - dense_23_loss: 0.2571 - dense_25_loss: 0.4628 - dense_27_loss: 0.6484 - dense_29_loss: 0.5531 - dense_21_accuracy: 0.9201 - dense_23_accuracy: 0.9111 - dense_25_accuracy: 0.8273 - dense_27_accuracy: 0.7629 - dense_29_accuracy: 0.7835 - val_loss: 2.4116 - val_dense_21_loss: 0.0666 - val_dense_23_loss: 0.3327 - val_dense_25_loss: 0.6120 - val_dense_27_loss: 0.8442 - val_dense_29_loss: 0.5561 - val_dense_21_accuracy: 0.9742 - val_dense_23_accuracy: 0.9433 - val_dense_25_accuracy: 0.8351 - val_dense_27_accuracy: 0.7423 - val_dense_29_accuracy: 0.8711\n",
      "Epoch 24/40\n",
      "25/25 [==============================] - 3s 115ms/step - loss: 1.9725 - dense_21_loss: 0.2041 - dense_23_loss: 0.2261 - dense_25_loss: 0.4101 - dense_27_loss: 0.6306 - dense_29_loss: 0.5017 - dense_21_accuracy: 0.9201 - dense_23_accuracy: 0.9188 - dense_25_accuracy: 0.8312 - dense_27_accuracy: 0.7784 - dense_29_accuracy: 0.8157 - val_loss: 2.1525 - val_dense_21_loss: 0.0615 - val_dense_23_loss: 0.2975 - val_dense_25_loss: 0.5623 - val_dense_27_loss: 0.8102 - val_dense_29_loss: 0.4210 - val_dense_21_accuracy: 0.9845 - val_dense_23_accuracy: 0.9381 - val_dense_25_accuracy: 0.8608 - val_dense_27_accuracy: 0.7474 - val_dense_29_accuracy: 0.8918\n",
      "Epoch 25/40\n",
      "25/25 [==============================] - 3s 114ms/step - loss: 1.9191 - dense_21_loss: 0.1952 - dense_23_loss: 0.2074 - dense_25_loss: 0.4073 - dense_27_loss: 0.6469 - dense_29_loss: 0.4623 - dense_21_accuracy: 0.9330 - dense_23_accuracy: 0.9278 - dense_25_accuracy: 0.8312 - dense_27_accuracy: 0.7822 - dense_29_accuracy: 0.8209 - val_loss: 2.1275 - val_dense_21_loss: 0.0416 - val_dense_23_loss: 0.3280 - val_dense_25_loss: 0.5411 - val_dense_27_loss: 0.7677 - val_dense_29_loss: 0.4492 - val_dense_21_accuracy: 0.9897 - val_dense_23_accuracy: 0.9381 - val_dense_25_accuracy: 0.8247 - val_dense_27_accuracy: 0.7371 - val_dense_29_accuracy: 0.8814\n",
      "Epoch 26/40\n",
      "25/25 [==============================] - 3s 103ms/step - loss: 1.8637 - dense_21_loss: 0.1613 - dense_23_loss: 0.1769 - dense_25_loss: 0.4178 - dense_27_loss: 0.6160 - dense_29_loss: 0.4918 - dense_21_accuracy: 0.9446 - dense_23_accuracy: 0.9291 - dense_25_accuracy: 0.8479 - dense_27_accuracy: 0.7719 - dense_29_accuracy: 0.8080 - val_loss: 2.1992 - val_dense_21_loss: 0.0556 - val_dense_23_loss: 0.3280 - val_dense_25_loss: 0.5520 - val_dense_27_loss: 0.7563 - val_dense_29_loss: 0.5073 - val_dense_21_accuracy: 0.9691 - val_dense_23_accuracy: 0.9588 - val_dense_25_accuracy: 0.8557 - val_dense_27_accuracy: 0.7320 - val_dense_29_accuracy: 0.8660\n",
      "Epoch 27/40\n",
      "25/25 [==============================] - 3s 102ms/step - loss: 1.7967 - dense_21_loss: 0.2104 - dense_23_loss: 0.1779 - dense_25_loss: 0.4093 - dense_27_loss: 0.5358 - dense_29_loss: 0.4634 - dense_21_accuracy: 0.9201 - dense_23_accuracy: 0.9343 - dense_25_accuracy: 0.8351 - dense_27_accuracy: 0.7977 - dense_29_accuracy: 0.8209 - val_loss: 2.1474 - val_dense_21_loss: 0.0673 - val_dense_23_loss: 0.3524 - val_dense_25_loss: 0.5184 - val_dense_27_loss: 0.7603 - val_dense_29_loss: 0.4490 - val_dense_21_accuracy: 0.9845 - val_dense_23_accuracy: 0.9588 - val_dense_25_accuracy: 0.8351 - val_dense_27_accuracy: 0.7577 - val_dense_29_accuracy: 0.8969\n",
      "Epoch 28/40\n",
      "25/25 [==============================] - 3s 101ms/step - loss: 1.8002 - dense_21_loss: 0.1826 - dense_23_loss: 0.1902 - dense_25_loss: 0.4119 - dense_27_loss: 0.5222 - dense_29_loss: 0.4932 - dense_21_accuracy: 0.9253 - dense_23_accuracy: 0.9330 - dense_25_accuracy: 0.8518 - dense_27_accuracy: 0.7990 - dense_29_accuracy: 0.8209 - val_loss: 2.1396 - val_dense_21_loss: 0.0337 - val_dense_23_loss: 0.3735 - val_dense_25_loss: 0.5558 - val_dense_27_loss: 0.7417 - val_dense_29_loss: 0.4349 - val_dense_21_accuracy: 0.9845 - val_dense_23_accuracy: 0.9485 - val_dense_25_accuracy: 0.8454 - val_dense_27_accuracy: 0.7680 - val_dense_29_accuracy: 0.8814\n",
      "Epoch 29/40\n",
      "25/25 [==============================] - 3s 109ms/step - loss: 1.6652 - dense_21_loss: 0.1455 - dense_23_loss: 0.1759 - dense_25_loss: 0.3641 - dense_27_loss: 0.5511 - dense_29_loss: 0.4286 - dense_21_accuracy: 0.9446 - dense_23_accuracy: 0.9394 - dense_25_accuracy: 0.8492 - dense_27_accuracy: 0.7990 - dense_29_accuracy: 0.8389 - val_loss: 2.1786 - val_dense_21_loss: 0.0373 - val_dense_23_loss: 0.3846 - val_dense_25_loss: 0.5575 - val_dense_27_loss: 0.7708 - val_dense_29_loss: 0.4283 - val_dense_21_accuracy: 0.9845 - val_dense_23_accuracy: 0.9433 - val_dense_25_accuracy: 0.8402 - val_dense_27_accuracy: 0.7938 - val_dense_29_accuracy: 0.8763\n",
      "Epoch 30/40\n",
      "25/25 [==============================] - 3s 112ms/step - loss: 1.7063 - dense_21_loss: 0.1474 - dense_23_loss: 0.1734 - dense_25_loss: 0.4128 - dense_27_loss: 0.5818 - dense_29_loss: 0.3908 - dense_21_accuracy: 0.9446 - dense_23_accuracy: 0.9420 - dense_25_accuracy: 0.8466 - dense_27_accuracy: 0.7835 - dense_29_accuracy: 0.8312 - val_loss: 2.1156 - val_dense_21_loss: 0.0403 - val_dense_23_loss: 0.3704 - val_dense_25_loss: 0.4764 - val_dense_27_loss: 0.7577 - val_dense_29_loss: 0.4708 - val_dense_21_accuracy: 0.9897 - val_dense_23_accuracy: 0.9639 - val_dense_25_accuracy: 0.8711 - val_dense_27_accuracy: 0.7732 - val_dense_29_accuracy: 0.8814\n",
      "Epoch 31/40\n",
      "25/25 [==============================] - 3s 119ms/step - loss: 1.6172 - dense_21_loss: 0.1922 - dense_23_loss: 0.1444 - dense_25_loss: 0.3485 - dense_27_loss: 0.5262 - dense_29_loss: 0.4059 - dense_21_accuracy: 0.9356 - dense_23_accuracy: 0.9523 - dense_25_accuracy: 0.8776 - dense_27_accuracy: 0.8054 - dense_29_accuracy: 0.8338 - val_loss: 2.2556 - val_dense_21_loss: 0.0462 - val_dense_23_loss: 0.3863 - val_dense_25_loss: 0.6398 - val_dense_27_loss: 0.7564 - val_dense_29_loss: 0.4270 - val_dense_21_accuracy: 0.9948 - val_dense_23_accuracy: 0.9278 - val_dense_25_accuracy: 0.8041 - val_dense_27_accuracy: 0.7784 - val_dense_29_accuracy: 0.8866\n",
      "Epoch 32/40\n",
      "25/25 [==============================] - 2s 94ms/step - loss: 1.5990 - dense_21_loss: 0.1644 - dense_23_loss: 0.1973 - dense_25_loss: 0.3357 - dense_27_loss: 0.5272 - dense_29_loss: 0.3744 - dense_21_accuracy: 0.9330 - dense_23_accuracy: 0.9188 - dense_25_accuracy: 0.8673 - dense_27_accuracy: 0.8003 - dense_29_accuracy: 0.8505 - val_loss: 1.9685 - val_dense_21_loss: 0.0376 - val_dense_23_loss: 0.3881 - val_dense_25_loss: 0.4928 - val_dense_27_loss: 0.6672 - val_dense_29_loss: 0.3827 - val_dense_21_accuracy: 0.9845 - val_dense_23_accuracy: 0.9330 - val_dense_25_accuracy: 0.8660 - val_dense_27_accuracy: 0.8041 - val_dense_29_accuracy: 0.8711\n",
      "Epoch 33/40\n",
      "25/25 [==============================] - 2s 93ms/step - loss: 1.6205 - dense_21_loss: 0.2007 - dense_23_loss: 0.1688 - dense_25_loss: 0.3819 - dense_27_loss: 0.4804 - dense_29_loss: 0.3887 - dense_21_accuracy: 0.9214 - dense_23_accuracy: 0.9369 - dense_25_accuracy: 0.8531 - dense_27_accuracy: 0.8144 - dense_29_accuracy: 0.8479 - val_loss: 2.1643 - val_dense_21_loss: 0.0471 - val_dense_23_loss: 0.4057 - val_dense_25_loss: 0.6042 - val_dense_27_loss: 0.7368 - val_dense_29_loss: 0.3705 - val_dense_21_accuracy: 0.9845 - val_dense_23_accuracy: 0.9381 - val_dense_25_accuracy: 0.8608 - val_dense_27_accuracy: 0.7784 - val_dense_29_accuracy: 0.8969\n",
      "Epoch 34/40\n",
      "25/25 [==============================] - 2s 92ms/step - loss: 1.5096 - dense_21_loss: 0.1505 - dense_23_loss: 0.1513 - dense_25_loss: 0.3203 - dense_27_loss: 0.4630 - dense_29_loss: 0.4245 - dense_21_accuracy: 0.9394 - dense_23_accuracy: 0.9420 - dense_25_accuracy: 0.8711 - dense_27_accuracy: 0.8286 - dense_29_accuracy: 0.8415 - val_loss: 2.2424 - val_dense_21_loss: 0.0348 - val_dense_23_loss: 0.3661 - val_dense_25_loss: 0.5811 - val_dense_27_loss: 0.7900 - val_dense_29_loss: 0.4703 - val_dense_21_accuracy: 0.9794 - val_dense_23_accuracy: 0.9485 - val_dense_25_accuracy: 0.8402 - val_dense_27_accuracy: 0.7784 - val_dense_29_accuracy: 0.8814\n",
      "Epoch 35/40\n",
      "25/25 [==============================] - 2s 92ms/step - loss: 1.5252 - dense_21_loss: 0.1516 - dense_23_loss: 0.1494 - dense_25_loss: 0.3334 - dense_27_loss: 0.5038 - dense_29_loss: 0.3869 - dense_21_accuracy: 0.9356 - dense_23_accuracy: 0.9407 - dense_25_accuracy: 0.8595 - dense_27_accuracy: 0.8157 - dense_29_accuracy: 0.8505 - val_loss: 2.3475 - val_dense_21_loss: 0.0484 - val_dense_23_loss: 0.4942 - val_dense_25_loss: 0.6568 - val_dense_27_loss: 0.7512 - val_dense_29_loss: 0.3969 - val_dense_21_accuracy: 0.9742 - val_dense_23_accuracy: 0.9278 - val_dense_25_accuracy: 0.8402 - val_dense_27_accuracy: 0.8196 - val_dense_29_accuracy: 0.8814\n",
      "Epoch 36/40\n",
      "25/25 [==============================] - 2s 93ms/step - loss: 1.4734 - dense_21_loss: 0.1422 - dense_23_loss: 0.1462 - dense_25_loss: 0.3060 - dense_27_loss: 0.4856 - dense_29_loss: 0.3933 - dense_21_accuracy: 0.9446 - dense_23_accuracy: 0.9446 - dense_25_accuracy: 0.8853 - dense_27_accuracy: 0.8196 - dense_29_accuracy: 0.8582 - val_loss: 2.2580 - val_dense_21_loss: 0.0530 - val_dense_23_loss: 0.4110 - val_dense_25_loss: 0.5814 - val_dense_27_loss: 0.7115 - val_dense_29_loss: 0.5012 - val_dense_21_accuracy: 0.9845 - val_dense_23_accuracy: 0.9536 - val_dense_25_accuracy: 0.8557 - val_dense_27_accuracy: 0.7784 - val_dense_29_accuracy: 0.8763\n",
      "Epoch 37/40\n",
      "25/25 [==============================] - 4s 147ms/step - loss: 1.3884 - dense_21_loss: 0.1521 - dense_23_loss: 0.1308 - dense_25_loss: 0.3268 - dense_27_loss: 0.4117 - dense_29_loss: 0.3670 - dense_21_accuracy: 0.9485 - dense_23_accuracy: 0.9575 - dense_25_accuracy: 0.8621 - dense_27_accuracy: 0.8402 - dense_29_accuracy: 0.8505 - val_loss: 2.2555 - val_dense_21_loss: 0.0381 - val_dense_23_loss: 0.4406 - val_dense_25_loss: 0.5554 - val_dense_27_loss: 0.7471 - val_dense_29_loss: 0.4744 - val_dense_21_accuracy: 0.9845 - val_dense_23_accuracy: 0.9433 - val_dense_25_accuracy: 0.8608 - val_dense_27_accuracy: 0.7887 - val_dense_29_accuracy: 0.8711\n",
      "Epoch 38/40\n",
      "25/25 [==============================] - 3s 126ms/step - loss: 1.3159 - dense_21_loss: 0.1391 - dense_23_loss: 0.1242 - dense_25_loss: 0.3240 - dense_27_loss: 0.3917 - dense_29_loss: 0.3369 - dense_21_accuracy: 0.9433 - dense_23_accuracy: 0.9562 - dense_25_accuracy: 0.8789 - dense_27_accuracy: 0.8466 - dense_29_accuracy: 0.8608 - val_loss: 2.1866 - val_dense_21_loss: 0.0464 - val_dense_23_loss: 0.4799 - val_dense_25_loss: 0.5222 - val_dense_27_loss: 0.7230 - val_dense_29_loss: 0.4151 - val_dense_21_accuracy: 0.9794 - val_dense_23_accuracy: 0.9485 - val_dense_25_accuracy: 0.8763 - val_dense_27_accuracy: 0.8041 - val_dense_29_accuracy: 0.8969\n",
      "Epoch 39/40\n",
      "25/25 [==============================] - 3s 127ms/step - loss: 1.3360 - dense_21_loss: 0.1308 - dense_23_loss: 0.1455 - dense_25_loss: 0.3255 - dense_27_loss: 0.4068 - dense_29_loss: 0.3274 - dense_21_accuracy: 0.9510 - dense_23_accuracy: 0.9472 - dense_25_accuracy: 0.8776 - dense_27_accuracy: 0.8479 - dense_29_accuracy: 0.8763 - val_loss: 2.1618 - val_dense_21_loss: 0.0264 - val_dense_23_loss: 0.4592 - val_dense_25_loss: 0.5452 - val_dense_27_loss: 0.6751 - val_dense_29_loss: 0.4560 - val_dense_21_accuracy: 0.9897 - val_dense_23_accuracy: 0.9381 - val_dense_25_accuracy: 0.8711 - val_dense_27_accuracy: 0.8299 - val_dense_29_accuracy: 0.8969\n",
      "Epoch 40/40\n",
      "25/25 [==============================] - 3s 129ms/step - loss: 1.3473 - dense_21_loss: 0.1437 - dense_23_loss: 0.1249 - dense_25_loss: 0.2918 - dense_27_loss: 0.4499 - dense_29_loss: 0.3370 - dense_21_accuracy: 0.9446 - dense_23_accuracy: 0.9497 - dense_25_accuracy: 0.8892 - dense_27_accuracy: 0.8247 - dense_29_accuracy: 0.8776 - val_loss: 2.0634 - val_dense_21_loss: 0.0425 - val_dense_23_loss: 0.4124 - val_dense_25_loss: 0.4491 - val_dense_27_loss: 0.7791 - val_dense_29_loss: 0.3803 - val_dense_21_accuracy: 0.9845 - val_dense_23_accuracy: 0.9536 - val_dense_25_accuracy: 0.8763 - val_dense_27_accuracy: 0.7990 - val_dense_29_accuracy: 0.9072\n"
     ]
    }
   ],
   "source": [
    "#model = create_model()\n",
    "hist = model.fit(X_train, [y_train[0], y_train[1], y_train[2], y_train[3], y_train[4]], \n",
    "                 batch_size=32, epochs=40,verbose=1, validation_split=0.2)"
   ]
  },
  {
   "cell_type": "code",
   "execution_count": 34,
   "id": "050d5dd9",
   "metadata": {},
   "outputs": [
    {
     "name": "stderr",
     "output_type": "stream",
     "text": [
      "/Library/Frameworks/Python.framework/Versions/3.11/lib/python3.11/site-packages/keras/src/engine/training.py:3079: UserWarning: You are saving your model as an HDF5 file via `model.save()`. This file format is considered legacy. We recommend using instead the native Keras format, e.g. `model.save('my_model.keras')`.\n",
      "  saving_api.save_model(\n"
     ]
    }
   ],
   "source": [
    "#saving the model:\n",
    "\n",
    "model.save(\"/Users/maymay/Desktop/CSDF MIMNI PROJEKT/templates/captcha_model.hdf5\")"
   ]
  },
  {
   "cell_type": "code",
   "execution_count": 27,
   "id": "81096029-365a-48ef-b9de-a9c6bf32b6cd",
   "metadata": {},
   "outputs": [],
   "source": [
    "def predict(filepath):\n",
    "    img = cv2.imread(filepath, cv2.IMREAD_GRAYSCALE)\n",
    "    if img is not None:\n",
    "        img = img / 255.0\n",
    "    else:\n",
    "        print(\"Not detected\");\n",
    "    res = np.array(model.predict(img[np.newaxis, :, :, np.newaxis]))\n",
    "    ans = np.reshape(res, (5, 36))\n",
    "    l_ind = []\n",
    "    probs = []\n",
    "    for a in ans:\n",
    "        l_ind.append(np.argmax(a))\n",
    "        #probs.append(np.max(a))\n",
    "\n",
    "    capt = ''\n",
    "    for l in l_ind:\n",
    "        capt += symbols[l]\n",
    "    return capt"
   ]
  },
  {
   "cell_type": "code",
   "execution_count": null,
   "id": "d73cff31",
   "metadata": {},
   "outputs": [],
   "source": []
  },
  {
   "cell_type": "code",
   "execution_count": 28,
   "id": "7030c4c4-300c-4a84-a0aa-910b209ea925",
   "metadata": {},
   "outputs": [
    {
     "name": "stdout",
     "output_type": "stream",
     "text": [
      "4/4 [==============================] - 0s 12ms/step - loss: 1.7111 - dense_21_loss: 0.1281 - dense_23_loss: 0.2846 - dense_25_loss: 0.4622 - dense_27_loss: 0.5046 - dense_29_loss: 0.3315 - dense_21_accuracy: 0.9703 - dense_23_accuracy: 0.9505 - dense_25_accuracy: 0.8812 - dense_27_accuracy: 0.8218 - dense_29_accuracy: 0.9208\n",
      "\n",
      "\t [1.7110636234283447, 0.1281481385231018, 0.2846260666847229, 0.46224087476730347, 0.5045525431632996, 0.3314960300922394, 0.9702970385551453, 0.9504950642585754, 0.8811880946159363, 0.8217821717262268, 0.9207921028137207]\n"
     ]
    }
   ],
   "source": [
    "score = model.evaluate(X_test, [y_test[0], y_test[1], y_test[2], y_test[3], y_test[4]], verbose=1)\n",
    "\n",
    "print(\"\\n\\t\", score)"
   ]
  },
  {
   "cell_type": "code",
   "execution_count": 33,
   "id": "2892f046-7c96-4d66-9fd0-b8f1d7be15cf",
   "metadata": {},
   "outputs": [
    {
     "data": {
      "text/plain": [
       "'/Users/maymay/Desktop/CSDF MIMNI PROJEKT/templates/captcha_model.hdf5'"
      ]
     },
     "execution_count": 33,
     "metadata": {},
     "output_type": "execute_result"
    }
   ],
   "source": [
    "model_save"
   ]
  },
  {
   "cell_type": "code",
   "execution_count": null,
   "id": "47958297-64b4-494f-81d1-073dc900820f",
   "metadata": {},
   "outputs": [],
   "source": []
  },
  {
   "cell_type": "code",
   "execution_count": 29,
   "id": "ba3af32d-1001-48ca-83ff-40bad7aeaf29",
   "metadata": {},
   "outputs": [
    {
     "name": "stdout",
     "output_type": "stream",
     "text": [
      "4/4 [==============================] - 0s 12ms/step - loss: 1.7111 - dense_21_loss: 0.1281 - dense_23_loss: 0.2846 - dense_25_loss: 0.4622 - dense_27_loss: 0.5046 - dense_29_loss: 0.3315 - dense_21_accuracy: 0.9703 - dense_23_accuracy: 0.9505 - dense_25_accuracy: 0.8812 - dense_27_accuracy: 0.8218 - dense_29_accuracy: 0.9208\n",
      "1/1 [==============================] - 0s 110ms/step\n",
      "6n5p3\n",
      "1/1 [==============================] - 0s 15ms/step\n",
      "f2m8n\n",
      "1/1 [==============================] - 0s 24ms/step\n",
      "dce8y\n",
      "1/1 [==============================] - 0s 14ms/step\n",
      "3eny7\n",
      "1/1 [==============================] - 0s 14ms/step\n",
      "npxb7\n"
     ]
    }
   ],
   "source": [
    "#chechking the models:\n",
    "model.evaluate(X_test, [y_test[0], y_test[1], y_test[2], y_test[3], y_test[4]])\n",
    "print(predict('/Volumes/This One Is Totally Infectious/CSDF MIMNI PROJEKT/samples/8n5p3.png'))\n",
    "print(predict('/Volumes/This One Is Totally Infectious/CSDF MIMNI PROJEKT/samples/f2m8n.png'))\n",
    "print(predict('/Volumes/This One Is Totally Infectious/CSDF MIMNI PROJEKT/samples/dce8y.png'))\n",
    "print(predict('/Volumes/This One Is Totally Infectious/CSDF MIMNI PROJEKT/samples/3eny7.png'))\n",
    "print(predict('/Volumes/This One Is Totally Infectious/CSDF MIMNI PROJEKT/samples/npxb7.png'))"
   ]
  },
  {
   "cell_type": "code",
   "execution_count": 30,
   "id": "45606744-e2c0-488b-8cd7-f280be2416b4",
   "metadata": {},
   "outputs": [
    {
     "name": "stdout",
     "output_type": "stream",
     "text": [
      "Image could not be loaded.\n"
     ]
    },
    {
     "name": "stderr",
     "output_type": "stream",
     "text": [
      "[ WARN:0@989.192] global loadsave.cpp:248 findDecoder imread_('/Volumes/This One Is Totally Infectious/CSDF MIMNI PROJEKT/samples/a.png'): can't open/read file: check file path/integrity\n"
     ]
    }
   ],
   "source": [
    "img=cv2.imread('/Volumes/This One Is Totally Infectious/CSDF MIMNI PROJEKT/samples/a.png',cv2.IMREAD_GRAYSCALE)\n",
    "\n",
    "if img is not None:  # loaded successfully\n",
    "    # Ensure the image data is in a compatible data type (e.g., float or uint8)\n",
    "    img = img.astype(np.float32)  # Convert to float32\n",
    "    # Alternatively, you can use: img = img.astype(np.uint8)  # Convert to uint8\n",
    "\n",
    "    # Display the image\n",
    "    plt.imshow(img, cmap='gray')\n",
    "    plt.show()\n",
    "else:\n",
    "    print(\"Image could not be loaded.\")"
   ]
  },
  {
   "cell_type": "code",
   "execution_count": 31,
   "id": "856b5968-ec54-4c07-9e46-972dd1639283",
   "metadata": {},
   "outputs": [
    {
     "data": {
      "image/png": "[encoded data removed]",
      "text/plain": [
       "<Figure size 640x480 with 1 Axes>"
      ]
     },
     "metadata": {},
     "output_type": "display_data"
    }
   ],
   "source": [
    "image_files = [file for file in os.listdir('/Volumes/This One Is Totally Infectious/CSDF MIMNI PROJEKT/samples') if file.endswith(('.png', '.jpg', '.jpeg'))]\n",
    "\n",
    "if not image_files:\n",
    "    print(\"No image files found in the directory.\")\n",
    "else:\n",
    "    # Choose a random image file\n",
    "    random_image_file = random.choice(image_files)\n",
    "    \n",
    "    captcha_text = random_image_file[:-4]  # Assuming the text is in the filename without the extension\n",
    "    \n",
    "    # Load and display the random image\n",
    "    random_image_path = os.path.join('/Volumes/This One Is Totally Infectious/CSDF MIMNI PROJEKT/samples', random_image_file)\n",
    "    random_image = cv2.imread(random_image_path, cv2.IMREAD_COLOR)  # Change the flag if needed\n",
    "    if random_image is not None:\n",
    "        plt.imshow(cv2.cvtColor(random_image, cv2.COLOR_BGR2RGB))  # Convert BGR to RGB for Matplotlib\n",
    "        plt.title(\"Random Image\")\n",
    "        plt.axis('off')\n",
    "        plt.show()\n",
    "    else:\n",
    "        print(\"Failed to load the random image.\")"
   ]
  },
  {
   "cell_type": "code",
   "execution_count": 32,
   "id": "51e73231-bc3e-41b3-b825-200d21b96d7d",
   "metadata": {},
   "outputs": [
    {
     "data": {
      "text/plain": [
       "'e46pd'"
      ]
     },
     "execution_count": 32,
     "metadata": {},
     "output_type": "execute_result"
    }
   ],
   "source": [
    "captcha_text"
   ]
  },
  {
   "cell_type": "code",
   "execution_count": null,
   "id": "45a634f3-cc98-4e1d-a43a-a71684d616f6",
   "metadata": {},
   "outputs": [],
   "source": []
  }
 ],
 "metadata": {
  "kernelspec": {
   "display_name": "Python 3 (ipykernel)",
   "language": "python",
   "name": "python3"
  },
  "language_info": {
   "codemirror_mode": {
    "name": "ipython",
    "version": 3
   },
   "file_extension": ".py",
   "mimetype": "text/x-python",
   "name": "python",
   "nbconvert_exporter": "python",
   "pygments_lexer": "ipython3",
   "version": "3.11.4"
  },
  "widgets": {
   "application/vnd.jupyter.widget-state+json": {
    "state": {},
    "version_major": 2,
    "version_minor": 0
   }
  }
 },
 "nbformat": 4,
 "nbformat_minor": 5
}
